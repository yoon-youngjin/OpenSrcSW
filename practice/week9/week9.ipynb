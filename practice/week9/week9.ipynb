{
 "cells": [
  {
   "cell_type": "code",
   "execution_count": 2,
   "id": "1e29e58f",
   "metadata": {
    "pycharm": {
     "name": "#%%\n"
    }
   },
   "outputs": [
    {
     "name": "stdout",
     "output_type": "stream",
     "text": [
      "31.400000000000002\n"
     ]
    }
   ],
   "source": [
    "r = 5\n",
    "pi = 3.14\n",
    "print(2*5*pi)"
   ]
  },
  {
   "cell_type": "code",
   "execution_count": 5,
   "id": "63c9ef96",
   "metadata": {
    "pycharm": {
     "name": "#%%\n"
    }
   },
   "outputs": [
    {
     "data": {
      "text/plain": [
       "(3+4j)"
      ]
     },
     "execution_count": 5,
     "metadata": {},
     "output_type": "execute_result"
    }
   ],
   "source": [
    "a = 1+3j\n",
    "b = 2+1j\n",
    "a+b"
   ]
  },
  {
   "cell_type": "code",
   "execution_count": 14,
   "id": "17eead5e",
   "metadata": {
    "pycharm": {
     "name": "#%%\n"
    }
   },
   "outputs": [
    {
     "name": "stdout",
     "output_type": "stream",
     "text": [
      "1\n",
      "[1, 2, 3.14, 4, 5]\n",
      "[1, 2]\n",
      "[1, 3.14, 5]\n",
      "[2, 4]\n",
      "[1, 2, 3.14, 4]\n",
      "[3.14, 4, 5]\n",
      "[5, 4, 3.14, 2, 1]\n"
     ]
    }
   ],
   "source": [
    "nums = [1,2,3.14,4,5]\n",
    "print(nums[0]) # 1\n",
    "print(nums[:])  # 1 ~ 5\n",
    "print(nums[0:2]) # 1, 2\n",
    "print(nums[::2]) # 1 3.14, 5\n",
    "print(nums[1::2]) # 2, 4\n",
    "print(nums[:-1]) # 1 ~ 4\n",
    "print(nums[-3:]) # 3.14, 4, 5\n",
    "print(nums[::-1]) # 5, 4, 3.14, 2, 1"
   ]
  },
  {
   "cell_type": "code",
   "execution_count": 20,
   "id": "7b10fd00",
   "metadata": {
    "pycharm": {
     "name": "#%%\n"
    }
   },
   "outputs": [
    {
     "data": {
      "text/plain": [
       "['you need python', 123, 'abc']"
      ]
     },
     "execution_count": 20,
     "metadata": {},
     "output_type": "execute_result"
    }
   ],
   "source": [
    "a= ['abc', 123, 'you need python']\n",
    "a\n",
    "a.reverse()\n",
    "a"
   ]
  },
  {
   "cell_type": "code",
   "execution_count": 37,
   "id": "98ce82d4",
   "metadata": {
    "pycharm": {
     "name": "#%%\n"
    }
   },
   "outputs": [
    {
     "name": "stdout",
     "output_type": "stream",
     "text": [
      "2.7\n"
     ]
    },
    {
     "data": {
      "text/plain": [
       "dict_keys(['pi', 'e'])"
      ]
     },
     "execution_count": 37,
     "metadata": {},
     "output_type": "execute_result"
    }
   ],
   "source": [
    "d = {'pi':3.14, 'e':2.7}\n",
    "d = dict(pi=3.14, e= 2.7)\n",
    "d = dict([('pi',3.14),('e',2.7)])\n",
    "\n",
    "\n",
    "d.keys()"
   ]
  },
  {
   "cell_type": "code",
   "execution_count": 42,
   "id": "b754523a",
   "metadata": {
    "pycharm": {
     "name": "#%%\n"
    }
   },
   "outputs": [
    {
     "name": "stdout",
     "output_type": "stream",
     "text": [
      "dict_values([3.14, 2.7])\n",
      "dict_items([('pi', 3.14), ('e', 2.7)])\n",
      "3.14\n"
     ]
    }
   ],
   "source": [
    "\n",
    "print(d.values())\n",
    "print(d.items())\n",
    "print(d.get('pi'))\n"
   ]
  },
  {
   "cell_type": "code",
   "execution_count": 49,
   "id": "c9362d8d",
   "metadata": {
    "pycharm": {
     "name": "#%%\n"
    }
   },
   "outputs": [
    {
     "name": "stdout",
     "output_type": "stream",
     "text": [
      "7 36\n"
     ]
    }
   ],
   "source": [
    "hour = int(456 / 60)\n",
    "min = 456 % 60\n",
    "print(hour, min)"
   ]
  },
  {
   "cell_type": "code",
   "execution_count": 64,
   "id": "c32c068d",
   "metadata": {
    "pycharm": {
     "name": "#%%\n"
    }
   },
   "outputs": [
    {
     "data": {
      "text/plain": [
       "2.8"
      ]
     },
     "execution_count": 64,
     "metadata": {},
     "output_type": "execute_result"
    }
   ],
   "source": [
    "dic = {'홍길동':3.4, '임꺽정':4.0, '김철수':2.8, '이영희':3.9}\n",
    "l = list(dic.keys())\n",
    "l.sort()\n",
    "dic.get(l[0])"
   ]
  }
 ],
 "metadata": {
  "kernelspec": {
   "display_name": "Python 3 (ipykernel)",
   "language": "python",
   "name": "python3"
  },
  "language_info": {
   "codemirror_mode": {
    "name": "ipython",
    "version": 3
   },
   "file_extension": ".py",
   "mimetype": "text/x-python",
   "name": "python",
   "nbconvert_exporter": "python",
   "pygments_lexer": "ipython3",
   "version": "3.9.7"
  }
 },
 "nbformat": 4,
 "nbformat_minor": 5
}