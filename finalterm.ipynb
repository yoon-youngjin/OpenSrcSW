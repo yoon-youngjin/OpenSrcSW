{
 "cells": [
  {
   "cell_type": "code",
   "execution_count": 3,
   "id": "020869af",
   "metadata": {
    "pycharm": {
     "name": "#%%\n"
    }
   },
   "outputs": [],
   "source": [
    "import csv"
   ]
  },
  {
   "cell_type": "code",
   "execution_count": 5,
   "id": "b2343d6f",
   "metadata": {
    "pycharm": {
     "name": "#%%\n"
    }
   },
   "outputs": [
    {
     "name": "stdout",
     "output_type": "stream",
     "text": [
      "백신이 가장 많이 접종된 날\n",
      "2022-03-24 1275541000.0\n",
      "백신이 가장 적게 접종된 날\n",
      "2021-02-22 0.0\n"
     ]
    }
   ],
   "source": [
    "f = open('country_vaccinations.csv')\n",
    "data = csv.reader(f)\n",
    "next(data)\n",
    "\n",
    "dic = {}\n",
    "list = {}\n",
    "\n",
    "max = 0\n",
    "min = 999999999999\n",
    "max_day = \"\"\n",
    "min_day = \"\"\n",
    "\n",
    "for row in data:\n",
    "    if row[4] != ''  and row[2] != ' ':\n",
    "        if max < float(row[4]):\n",
    "            max = float(row[4])\n",
    "            max_day = row[2]\n",
    "        if min > float(row[4]):\n",
    "            min = float(row[4])\n",
    "            min_day = row[2]\n",
    "            \n",
    "print(\"백신이 가장 많이 접종된 날\")\n",
    "print(max_day, max)\n",
    "print(\"백신이 가장 적게 접종된 날\")\n",
    "print(min_day, min)"
   ]
  }
 ],
 "metadata": {
  "kernelspec": {
   "display_name": "Python 3 (ipykernel)",
   "language": "python",
   "name": "python3"
  },
  "language_info": {
   "codemirror_mode": {
    "name": "ipython",
    "version": 3
   },
   "file_extension": ".py",
   "mimetype": "text/x-python",
   "name": "python",
   "nbconvert_exporter": "python",
   "pygments_lexer": "ipython3",
   "version": "3.9.7"
  }
 },
 "nbformat": 4,
 "nbformat_minor": 5
}