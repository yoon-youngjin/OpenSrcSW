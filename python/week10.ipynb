{
 "cells": [
  {
   "cell_type": "markdown",
   "id": "18bdb9e4",
   "metadata": {},
   "source": [
    "실습 1"
   ]
  },
  {
   "cell_type": "code",
   "execution_count": 1,
   "id": "a5516442",
   "metadata": {},
   "outputs": [
    {
     "name": "stdout",
     "output_type": "stream",
     "text": [
      "죽는 날까지 하늘을 우러러\n",
      "한 점 부끄럼이 없기를,\n",
      "잎새에 이는 바람에도\n",
      "너는 괴로워했다.\n",
      "별을 노래하는 마음으로\n",
      "모든 죽어가는 것을 사랑해야지\n",
      "그리고 너한테 주어진 길을\n",
      "걸어가야겠다.\n",
      "오늘 밤에도 별이 바람에 스치운다.\n"
     ]
    }
   ],
   "source": [
    "str=\"\"\"    죽는 날까지 하늘을 우러러\n",
    "한 점 부끄럼이 없기를,\n",
    "잎새에 이는 바람에도\n",
    "나는 괴로워했다.\n",
    "별을 노래하는 마음으로\n",
    "모든 죽어가는 것을 사랑해야지\n",
    "그리고 나한테 주어진 길을\n",
    "걸어가야겠다.\n",
    "오늘 밤에도 별이 바람에 스치운다.     \"\"\" # 여러 라인에 걸친 문자열이므로 \"\"\"을 통해 입력 받는다.\n",
    "str=str.strip()\n",
    "str=str.replace(\"나\",\"너\")\n",
    "print(str)"
   ]
  },
  {
   "cell_type": "markdown",
   "id": "42e0f04a",
   "metadata": {},
   "source": [
    "실습 2"
   ]
  },
  {
   "cell_type": "code",
   "execution_count": 5,
   "id": "08afacd5",
   "metadata": {},
   "outputs": [
    {
     "name": "stdout",
     "output_type": "stream",
     "text": [
      "Number=?244 40 3000\n"
     ]
    },
    {
     "data": {
      "text/plain": [
       "3000"
      ]
     },
     "execution_count": 5,
     "metadata": {},
     "output_type": "execute_result"
    }
   ],
   "source": [
    "str = input(\"Number=?\")\n",
    "strsplit = str.split()\n",
    "max = int(strsplit[0])\n",
    "\n",
    "for str1 in strsplit[1:]:\n",
    "    num=int(str1)\n",
    "    if(num>max):\n",
    "        max=num\n",
    "max"
   ]
  },
  {
   "cell_type": "markdown",
   "id": "2f406563",
   "metadata": {},
   "source": [
    "실습 3"
   ]
  },
  {
   "cell_type": "code",
   "execution_count": 11,
   "id": "0c29bd83",
   "metadata": {
    "scrolled": false
   },
   "outputs": [
    {
     "name": "stdout",
     "output_type": "stream",
     "text": [
      "\"abc def\" is encoded into \"efg!bcd\"\n",
      "\"efg!bcd\" is decoded into \"abc def\"\n"
     ]
    }
   ],
   "source": [
    "def conv_asc(str, num):\n",
    "    new_str=\"\"\n",
    "    for i in str:\n",
    "        code = ord(i)\n",
    "        new_str += chr(code+num)\n",
    "    return new_str\n",
    "\n",
    "def encode(str, num):\n",
    "    list = str.split()\n",
    "    list = list[::-1]\n",
    "    new_str = \" \".join(list)\n",
    "    return conv_asc(new_str, num)\n",
    "\n",
    "def decode(str, num):\n",
    "    str = conv_asc(str, num*-1)\n",
    "    list = str.split()\n",
    "    list = list[::-1]\n",
    "    new_str = \" \".join(list)\n",
    "    return new_str\n",
    "\n",
    "str=\"abc def\"\n",
    "enc_str=encode(str,1)\n",
    "print(\"\\\"\"+str+\"\\\" is encoded into \\\"\"+enc_str+\"\\\"\")\n",
    "\n",
    "dec_str=decode(enc_str,1)\n",
    "print(\"\\\"\"+enc_str+\"\\\" is decoded into \\\"\"+dec_str+\"\\\"\")"
   ]
  }
 ],
 "metadata": {
  "kernelspec": {
   "display_name": "Python 3 (ipykernel)",
   "language": "python",
   "name": "python3"
  },
  "language_info": {
   "codemirror_mode": {
    "name": "ipython",
    "version": 3
   },
   "file_extension": ".py",
   "mimetype": "text/x-python",
   "name": "python",
   "nbconvert_exporter": "python",
   "pygments_lexer": "ipython3",
   "version": "3.9.7"
  }
 },
 "nbformat": 4,
 "nbformat_minor": 5
}
