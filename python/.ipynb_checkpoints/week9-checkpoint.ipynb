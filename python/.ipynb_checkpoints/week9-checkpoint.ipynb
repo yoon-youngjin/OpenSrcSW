{
 "cells": [
  {
   "cell_type": "markdown",
   "id": "7ce00073",
   "metadata": {},
   "source": [
    "실습 문제1: 456분은 몇 시간 몇 분인지 계산 하시오."
   ]
  },
  {
   "cell_type": "code",
   "execution_count": 2,
   "id": "dd86de0f",
   "metadata": {},
   "outputs": [
    {
     "data": {
      "text/plain": [
       "(7, 36)"
      ]
     },
     "execution_count": 2,
     "metadata": {},
     "output_type": "execute_result"
    }
   ],
   "source": [
    "a = 456\n",
    "h = 456/60\n",
    "m = 456%60\n",
    "int(h), m"
   ]
  },
  {
   "cell_type": "markdown",
   "id": "1b384c9f",
   "metadata": {},
   "source": []
  }
 ],
 "metadata": {
  "kernelspec": {
   "display_name": "Python 3 (ipykernel)",
   "language": "python",
   "name": "python3"
  },
  "language_info": {
   "codemirror_mode": {
    "name": "ipython",
    "version": 3
   },
   "file_extension": ".py",
   "mimetype": "text/x-python",
   "name": "python",
   "nbconvert_exporter": "python",
   "pygments_lexer": "ipython3",
   "version": "3.9.7"
  }
 },
 "nbformat": 4,
 "nbformat_minor": 5
}
