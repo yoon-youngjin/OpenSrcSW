{
 "cells": [
  {
   "cell_type": "markdown",
   "id": "291f0bc4",
   "metadata": {},
   "source": [
    "## 실습\n",
    "\n",
    "- 다음과 같은 절차에 따라 총 가격이 가장 비싼 가계를 출력하는 프로그램을 작성\n",
    "    - 단가와 개수로 이루어진 데이터 프레임 생성\n",
    "    - 단가와 개수를 곱한 총 가격이 추가된 데이터 프레임 생성\n",
    "    - 총 가격이 가장 비싼 가계 출력\n",
    "  \n",
    "    "
   ]
  },
  {
   "cell_type": "code",
   "execution_count": 13,
   "id": "59de7a29",
   "metadata": {},
   "outputs": [],
   "source": [
    "import pandas as pd\n",
    "import numpy as np\n",
    "import matplotlib.pyplot as plt"
   ]
  },
  {
   "cell_type": "code",
   "execution_count": 39,
   "id": "f7866e0c",
   "metadata": {},
   "outputs": [
    {
     "name": "stdout",
     "output_type": "stream",
     "text": [
      "        unit price  number\n",
      "store1        1000      25\n",
      "store2         280     120\n",
      "store3         900      30 \n",
      "\n",
      "        unit price  number  total price\n",
      "store2         280     120        33600\n"
     ]
    },
    {
     "data": {
      "text/html": [
       "<div>\n",
       "<style scoped>\n",
       "    .dataframe tbody tr th:only-of-type {\n",
       "        vertical-align: middle;\n",
       "    }\n",
       "\n",
       "    .dataframe tbody tr th {\n",
       "        vertical-align: top;\n",
       "    }\n",
       "\n",
       "    .dataframe thead th {\n",
       "        text-align: right;\n",
       "    }\n",
       "</style>\n",
       "<table border=\"1\" class=\"dataframe\">\n",
       "  <thead>\n",
       "    <tr style=\"text-align: right;\">\n",
       "      <th></th>\n",
       "      <th>unit price</th>\n",
       "      <th>number</th>\n",
       "      <th>total price</th>\n",
       "    </tr>\n",
       "  </thead>\n",
       "  <tbody>\n",
       "    <tr>\n",
       "      <th>store1</th>\n",
       "      <td>1000</td>\n",
       "      <td>25</td>\n",
       "      <td>25000</td>\n",
       "    </tr>\n",
       "    <tr>\n",
       "      <th>store2</th>\n",
       "      <td>280</td>\n",
       "      <td>120</td>\n",
       "      <td>33600</td>\n",
       "    </tr>\n",
       "    <tr>\n",
       "      <th>store3</th>\n",
       "      <td>900</td>\n",
       "      <td>30</td>\n",
       "      <td>27000</td>\n",
       "    </tr>\n",
       "  </tbody>\n",
       "</table>\n",
       "</div>"
      ],
      "text/plain": [
       "        unit price  number  total price\n",
       "store1        1000      25        25000\n",
       "store2         280     120        33600\n",
       "store3         900      30        27000"
      ]
     },
     "execution_count": 39,
     "metadata": {},
     "output_type": "execute_result"
    }
   ],
   "source": [
    "x = np.array([[1000,25],[280,120],[900,30]])\n",
    "df = pd.DataFrame(x, index=['store1', 'store2', 'store3'], columns=['unit price', 'number'])\n",
    "\n",
    "sum = []\n",
    "\n",
    "print(df, \"\\n\")\n",
    "\n",
    "df['total price'] = df['unit price'] * df['number']\n",
    "\n",
    "max = -999\n",
    "i = 0\n",
    "for idx, price in enumerate(df['total price']):\n",
    "    if price > max:\n",
    "        i = idx\n",
    "        max = price\n",
    "\n",
    "        \n",
    "print(df.iloc[[i]])\n",
    "\n",
    "df\n"
   ]
  },
  {
   "cell_type": "code",
   "execution_count": 16,
   "id": "8e2a2584",
   "metadata": {},
   "outputs": [
    {
     "data": {
      "image/png": "[encoded data removed]",
      "text/plain": [
       "<Figure size 432x288 with 1 Axes>"
      ]
     },
     "metadata": {
      "needs_background": "light"
     },
     "output_type": "display_data"
    }
   ],
   "source": [
    "x = np.array([[1,1,0,1,0,1],[1,1,1,0,1,0],[1,1,0,1,0,0]])\n",
    "Q = np.array([1,1,0,0,1,0])\n",
    "\n",
    "def cos(a, b):\n",
    "    return np.dot(a,b.T) / (np.linalg.norm(a) * np.linalg.norm(b))\n",
    "\n",
    "title = []\n",
    "value = []\n",
    "\n",
    "for i in range(3):\n",
    "    value.append(round(cos(x[i], Q),2))\n",
    "    title.append(\"doc{0:d}={1:.2f}\".format(i+1, round(cos(x[i], Q),2)))\n",
    "\n",
    "plt.bar(title, value)    \n",
    "plt.show()"
   ]
  }
 ],
 "metadata": {
  "kernelspec": {
   "display_name": "Python 3 (ipykernel)",
   "language": "python",
   "name": "python3"
  },
  "language_info": {
   "codemirror_mode": {
    "name": "ipython",
    "version": 3
   },
   "file_extension": ".py",
   "mimetype": "text/x-python",
   "name": "python",
   "nbconvert_exporter": "python",
   "pygments_lexer": "ipython3",
   "version": "3.9.7"
  }
 },
 "nbformat": 4,
 "nbformat_minor": 5
}
