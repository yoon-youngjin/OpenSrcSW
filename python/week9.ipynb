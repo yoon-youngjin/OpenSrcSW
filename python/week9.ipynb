{
 "cells": [
  {
   "cell_type": "markdown",
   "id": "b9dc8316",
   "metadata": {
    "pycharm": {
     "name": "#%% md\n"
    }
   },
   "source": [
    "실습 문제1: 456분은 몇 시간 몇 분인지 계산 하시오."
   ]
  },
  {
   "cell_type": "code",
   "execution_count": 3,
   "id": "0d55987a",
   "metadata": {
    "pycharm": {
     "name": "#%%\n"
    }
   },
   "outputs": [
    {
     "data": {
      "text/plain": [
       "(7, 36)"
      ]
     },
     "execution_count": 3,
     "metadata": {},
     "output_type": "execute_result"
    }
   ],
   "source": [
    "a = 456\n",
    "h = 456/60\n",
    "m = 456%60\n",
    "int(h), m"
   ]
  },
  {
   "cell_type": "markdown",
   "id": "2cd628f2",
   "metadata": {
    "pycharm": {
     "name": "#%% md\n"
    }
   },
   "source": [
    "실습 문제2: 학점 데이터를 딕셔너리에 저장한 후, 이름순으로 첫번째 학생의 학점을 출력하는 프로그램을 작성하시오.\n",
    "-> \"홍길동\":3.4, \"임꺽정\":4.0, \"김철수\":2.8, \"이영희\":3.9"
   ]
  },
  {
   "cell_type": "code",
   "execution_count": 11,
   "id": "c63677b2",
   "metadata": {
    "pycharm": {
     "name": "#%%\n"
    }
   },
   "outputs": [
    {
     "name": "stdout",
     "output_type": "stream",
     "text": [
      "김철수 2.8\n"
     ]
    }
   ],
   "source": [
    "scores = {\"홍길동\":3.4 , \"임꺽정\" : 4.0 , \"김철수\" : 2.8 , \"이영희\":3.9}\n",
    "\n",
    "keys = scores.keys()\n",
    "keys_list = list(key)\n",
    "keys_list.sort()\n",
    "\n",
    "fst_key = keys_list[0]\n",
    "value = scores.get(keys_list[0])\n",
    "print(fst_key , value)"
   ]
  }
 ],
 "metadata": {
  "kernelspec": {
   "display_name": "Python 3 (ipykernel)",
   "language": "python",
   "name": "python3"
  },
  "language_info": {
   "codemirror_mode": {
    "name": "ipython",
    "version": 3
   },
   "file_extension": ".py",
   "mimetype": "text/x-python",
   "name": "python",
   "nbconvert_exporter": "python",
   "pygments_lexer": "ipython3",
   "version": "3.9.7"
  }
 },
 "nbformat": 4,
 "nbformat_minor": 5
}