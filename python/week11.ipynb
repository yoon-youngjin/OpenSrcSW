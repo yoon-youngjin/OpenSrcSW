{
 "cells": [
  {
   "cell_type": "markdown",
   "id": "2e5e6ad5",
   "metadata": {
    "pycharm": {
     "name": "#%% md\n"
    }
   },
   "source": [
    "실습 1"
   ]
  },
  {
   "cell_type": "code",
   "execution_count": 31,
   "id": "28fdf85f",
   "metadata": {
    "pycharm": {
     "name": "#%%\n"
    }
   },
   "outputs": [
    {
     "name": "stdout",
     "output_type": "stream",
     "text": [
      "파이썬 2\n",
      "파일 2\n",
      "읽기 2\n",
      "예제입니다. 2\n",
      "다양한 1\n",
      "메소드를 1\n",
      "공부해 1\n",
      "보세요. 1\n",
      "실력이 1\n",
      "팍팍 1\n",
      "늘 1\n",
      "거예요~ 1\n",
      "단어 1\n",
      "수를 1\n",
      "카운트하는 1\n",
      "실습 1\n"
     ]
    }
   ],
   "source": [
    "f = open(\"README.txt\", \"r\", encoding='utf-8')\n",
    "dic = {}\n",
    "\n",
    "for line in f: \n",
    "    line  = line.strip()\n",
    "    words = line.split()\n",
    "    \n",
    "    for w in words:\n",
    "        if w in dic:\n",
    "            dic[w] += 1\n",
    "        else :\n",
    "            dic[w] = 1\n",
    "            \n",
    "for w in dic:\n",
    "    print(w, dic[w])\n"
   ]
  },
  {
   "cell_type": "markdown",
   "id": "60ec0a42",
   "metadata": {
    "pycharm": {
     "name": "#%% md\n"
    }
   },
   "source": [
    "실습 2"
   ]
  },
  {
   "cell_type": "code",
   "execution_count": 81,
   "id": "146d6f15",
   "metadata": {
    "pycharm": {
     "name": "#%%\n"
    }
   },
   "outputs": [],
   "source": [
    "class Point:\n",
    "    def __init__(self, x, y):\n",
    "        self.x = x\n",
    "        self.y = y\n",
    "\n",
    "    def move(self, dx, dy):\n",
    "        self.x += dx\n",
    "        self.y += dy\n",
    "    \n",
    "    def show(self):\n",
    "        print(\"({0:d}, {1:d})\".format(self.x, self.y))\n",
    "\n",
    "class Box(Point):\n",
    "    def __init__(self, p1, p2):\n",
    "        self.p1 = p1\n",
    "        self.p2 = p2\n",
    "    def move(self, dx, dy):\n",
    "        self.p1.move(dx, dy)\n",
    "        self.p2.move(dx, dy)\n",
    "    def show(self):\n",
    "        self.p1.show()\n",
    "        self.p2.show()\n"
   ]
  },
  {
   "cell_type": "code",
   "execution_count": 82,
   "id": "98b061ee",
   "metadata": {
    "pycharm": {
     "name": "#%%\n"
    }
   },
   "outputs": [
    {
     "name": "stdout",
     "output_type": "stream",
     "text": [
      "(1, 2)\n",
      "(3, 4)\n",
      "(2, 4)\n",
      "(4, 6)\n"
     ]
    }
   ],
   "source": [
    "p1 = Point(1,2)\n",
    "p1.show()\n",
    "p2 = Point(3,4)\n",
    "p2.show()\n",
    "\n",
    "b = Box(p1,p2)\n",
    "b.move(1,2)\n",
    "b.show()"
   ]
  }
 ],
 "metadata": {
  "kernelspec": {
   "display_name": "Python 3 (ipykernel)",
   "language": "python",
   "name": "python3"
  },
  "language_info": {
   "codemirror_mode": {
    "name": "ipython",
    "version": 3
   },
   "file_extension": ".py",
   "mimetype": "text/x-python",
   "name": "python",
   "nbconvert_exporter": "python",
   "pygments_lexer": "ipython3",
   "version": "3.9.7"
  }
 },
 "nbformat": 4,
 "nbformat_minor": 5
}