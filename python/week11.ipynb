{
 "cells": [
  {
   "cell_type": "markdown",
   "id": "98f65ffe",
   "metadata": {},
   "source": [
    "실습 1"
   ]
  },
  {
   "cell_type": "code",
   "execution_count": 31,
   "id": "c19d2f42",
   "metadata": {},
   "outputs": [
    {
     "name": "stdout",
     "output_type": "stream",
     "text": [
      "파이썬 2\n",
      "파일 2\n",
      "읽기 2\n",
      "예제입니다. 2\n",
      "다양한 1\n",
      "메소드를 1\n",
      "공부해 1\n",
      "보세요. 1\n",
      "실력이 1\n",
      "팍팍 1\n",
      "늘 1\n",
      "거예요~ 1\n",
      "단어 1\n",
      "수를 1\n",
      "카운트하는 1\n",
      "실습 1\n"
     ]
    }
   ],
   "source": [
    "f = open(\"README.txt\", \"r\", encoding='utf-8')\n",
    "dic = {}\n",
    "\n",
    "for line in f: \n",
    "    line  = line.strip()\n",
    "    words = line.split()\n",
    "    \n",
    "    for w in words:\n",
    "        if w in dic:\n",
    "            dic[w] += 1\n",
    "        else :\n",
    "            dic[w] = 1\n",
    "            \n",
    "for w in dic:\n",
    "    print(w, dic[w])\n"
   ]
  },
  {
   "cell_type": "markdown",
   "id": "234df2ee",
   "metadata": {},
   "source": [
    "실습 2"
   ]
  },
  {
   "cell_type": "code",
   "execution_count": 54,
   "id": "2fcf2169",
   "metadata": {},
   "outputs": [],
   "source": [
    "class Point:\n",
    "    def __init__(self, x, y):\n",
    "        self.x = x\n",
    "        self.y = y\n",
    "\n",
    "    def move(self, dx, dy):\n",
    "        self.x += dx\n",
    "        self.y += dy\n",
    "    \n",
    "    def show(self):\n",
    "        print(self.x, self.y)\n",
    "\n",
    "class Box(Point):\n",
    "    def __init__(self, p1, p2):\n",
    "        super().__init__(p1,p2)"
   ]
  },
  {
   "cell_type": "code",
   "execution_count": 57,
   "id": "48e83026",
   "metadata": {},
   "outputs": [
    {
     "name": "stdout",
     "output_type": "stream",
     "text": [
      "6 6\n",
      "4 6\n"
     ]
    }
   ],
   "source": [
    "p = Point(5,4)\n",
    "p.move(1,2)\n",
    "p.show()\n",
    "\n",
    "b = Box(3,4)\n",
    "b.move(1,2)\n",
    "b.show()"
   ]
  }
 ],
 "metadata": {
  "kernelspec": {
   "display_name": "Python 3 (ipykernel)",
   "language": "python",
   "name": "python3"
  },
  "language_info": {
   "codemirror_mode": {
    "name": "ipython",
    "version": 3
   },
   "file_extension": ".py",
   "mimetype": "text/x-python",
   "name": "python",
   "nbconvert_exporter": "python",
   "pygments_lexer": "ipython3",
   "version": "3.9.7"
  }
 },
 "nbformat": 4,
 "nbformat_minor": 5
}
